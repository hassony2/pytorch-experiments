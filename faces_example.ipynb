{
 "cells": [
  {
   "cell_type": "markdown",
   "metadata": {},
   "source": [
    "# A simple pytorch example"
   ]
  },
  {
   "cell_type": "code",
   "execution_count": 22,
   "metadata": {
    "collapsed": true
   },
   "outputs": [],
   "source": [
    "import math\n",
    "import matplotlib.pyplot as plt\n",
    "import numpy as np\n",
    "import PIL\n",
    "import os\n",
    "import scipy.misc\n",
    "import torch\n",
    "from torch.autograd import Variable\n",
    "import torch.nn as nn\n",
    "import torch.nn.functional as F\n",
    "import torchvision"
   ]
  },
  {
   "cell_type": "markdown",
   "metadata": {},
   "source": [
    "# The task\n",
    "\n",
    "The idea is to play around with a neural network to get to know pytorch.\n",
    "\n",
    "For this purpose we work with a simple dataset that presents for several persons pictures taken from various angles.\n",
    "\n",
    "The goal is to train a neural network to predict the view of a person from an angle given a different angle. Therefore both the input and the output are images.\n",
    "\n",
    "\n",
    "# Setup dataset\n",
    "\n",
    "\n",
    "The used dataset is the [Queen Mary University of London Multiview Face Dataset](http://www.eecs.qmul.ac.uk/~sgg/QMUL_FaceDataset/) which can be downloaded on the page but images are in .ras format.\n",
    "\n",
    "For convenience I converted them to .png\n",
    "\n",
    "Here, as we have a small dataset (37 pairs of images), each image is of size 100\\*100 but as the dataset is small, it is more interesting to rescale them to a fraction of this size, for instance 16\\*16.\n",
    "\n",
    "Our data is stored in the mainDirectory folder. This main folder contains one subfolder per data sample, which themselves conatain the images. (in our cases two pictures of a person's face from two different view angles) \n",
    "\n",
    "We take advantage of the [torch.utils.data.TensorDataset](http://pytorch.org/docs/data.html) utility to create a dataset from torch tensors where the first dimension allows for the indexing of the samples.\n",
    "\n"
   ]
  },
  {
   "cell_type": "code",
   "execution_count": 26,
   "metadata": {
    "collapsed": false
   },
   "outputs": [
    {
     "name": "stdout",
     "output_type": "stream",
     "text": [
      "Number of training samples :  32\n",
      "Number of testing samples :  4\n"
     ]
    },
    {
     "data": {
      "image/png": "[encoded data removed]",
      "text/plain": [
       "<matplotlib.figure.Figure at 0x7ffefd4a8390>"
      ]
     },
     "metadata": {},
     "output_type": "display_data"
    },
    {
     "data": {
      "image/png": "[encoded data removed]",
      "text/plain": [
       "<matplotlib.figure.Figure at 0x7fff00b632b0>"
      ]
     },
     "metadata": {},
     "output_type": "display_data"
    }
   ],
   "source": [
    "def createDataSetFromDirNames(dirNames, imageSize):\n",
    "    # This function takes the name of the samples's directories\n",
    "    # and creates a dataset containing as many samples as there are directories\n",
    "    # Each sample is composed of an input (one view of a person)\n",
    "    # and an output (another view of the same person)\n",
    "    dirNb = len(dirNames)\n",
    "    dataArray = torch.zeros(dirNb, imageSize, imageSize)\n",
    "    targetArray = torch.zeros(dirNb, imageSize, imageSize)\n",
    "    transform = torchvision.transforms.ToTensor()\n",
    "    for idx, dirName in enumerate(dirNames):\n",
    "        trainImg = PIL.Image.open( dirName + '/page-0.png')\n",
    "        targetImg = PIL.Image.open( dirName + '/page-5.png')\n",
    "        dataArray[idx,] = transform(scipy.misc.imresize(np.array(trainImg), imageSize)).squeeze()\n",
    "        targetArray[idx,] = transform(scipy.misc.imresize(np.array(targetImg), imageSize)).squeeze()\n",
    "    # Compute mean image for input and target\n",
    "    meanInputImage = torch.mean(dataArray, 0)\n",
    "    meanTargetImage = torch.mean(targetArray, 0)\n",
    "    return torch.utils.data.TensorDataset(dataArray, targetArray), meanInputImage, meanTargetImage\n",
    "\n",
    "mainDirectory = '/workdir/hassony/images/Set1_Greyscale/'\n",
    "directories = os.walk(mainDirectory)\n",
    "subDirNames = [dir[0] for dir in directories]\n",
    "subDirNb = len(subDirNames)\n",
    "trainingNb = math.floor(subDirNb*0.90)\n",
    "\n",
    "trainingNames = subDirNames[1:trainingNb]\n",
    "testNames = subDirNames[trainingNb:]\n",
    "\n",
    "# size to which we want to resize the images\n",
    "imSize = 16\n",
    "\n",
    "# create the training and testing datasets\n",
    "trainDataset, trainMeanInputImage, trainMeanTargetImage = createDataSetFromDirNames(trainingNames, imSize)\n",
    "testDataset, testMeanInputImage, testMeanTargetImage = createDataSetFromDirNames(testNames, imSize)\n",
    "\n",
    "print('Number of training samples : ', len(trainDataset))\n",
    "print('Number of testing samples : ', len(testDataset))\n",
    "\n",
    "plt.imshow(trainMeanInputImage.numpy().squeeze(), cmap=\"gray\")\n",
    "plt.title('mean input image for training set')\n",
    "plt.show()\n",
    "\n",
    "plt.imshow(trainMeanTargetImage.numpy().squeeze(), cmap=\"gray\")\n",
    "plt.title('mean target image for training set')\n",
    "plt.show()"
   ]
  },
  {
   "cell_type": "markdown",
   "metadata": {},
   "source": [
    "# Some samples from the dataset\n",
    "\n",
    "Let us display some examples from the dataset"
   ]
  },
  {
   "cell_type": "code",
   "execution_count": 27,
   "metadata": {
    "collapsed": false
   },
   "outputs": [
    {
     "name": "stdout",
     "output_type": "stream",
     "text": [
      "train sample\n"
     ]
    },
    {
     "data": {
      "image/png": "[encoded data removed]",
      "text/plain": [
       "<matplotlib.figure.Figure at 0x7fffb81ac8d0>"
      ]
     },
     "metadata": {},
     "output_type": "display_data"
    }
   ],
   "source": [
    "oneTrain = trainDataset.__getitem__(1)[0].numpy()\n",
    "\n",
    "def drawSample(datasetName, index, meanInpImage, meanTargImage):\n",
    "    trainImage = datasetName[index][0].numpy()\n",
    "    targetImage = datasetName[index][1].numpy()\n",
    "    # Four axes, returned as a 2-d array\n",
    "    f, axarr = plt.subplots(2)\n",
    "    axarr[0].imshow(trainImage, cmap = 'gray' )\n",
    "    axarr[0].set_title('input')\n",
    "    axarr[1].imshow(targetImage, cmap = 'gray')\n",
    "    axarr[1].set_title('output')\n",
    "    # Fine-tune figure; hide x ticks for top plots and y ticks for right plots\n",
    "    #plt.setp(axarr[0].get_xticklabels(), visible = False)\n",
    "    plt.setp([a.get_xticklabels() for a in axarr], visible=False)\n",
    "    plt.setp([a.get_yticklabels() for a in axarr], visible=False)\n",
    "    plt.show()\n",
    "\n",
    "print('train sample')\n",
    "drawSample(trainDataset,0, trainMeanInputImage, trainMeanTargetImage)\n",
    "#print('test sample')\n",
    "#drawSample(testDataset, 0, trainMeanInputImage, trainMeanTargetImage)"
   ]
  },
  {
   "cell_type": "markdown",
   "metadata": {},
   "source": [
    "## Creating the data loader\n",
    "\n",
    "We then need to configure the dataloaders that will be used for handling the data at training time"
   ]
  },
  {
   "cell_type": "code",
   "execution_count": 28,
   "metadata": {
    "collapsed": true
   },
   "outputs": [],
   "source": [
    "trainLoader = torch.utils.data.DataLoader(trainDataset, shuffle=True, batch_size=1)\n",
    "testLoader = torch.utils.data.DataLoader(testDataset)"
   ]
  },
  {
   "cell_type": "markdown",
   "metadata": {},
   "source": [
    "## Configuring the neural network\n",
    "We first create a simple network composed of two full connected layers.\n",
    "The input is fully connected to 20 hidden nodes which are fully connected to the output "
   ]
  },
  {
   "cell_type": "code",
   "execution_count": 67,
   "metadata": {
    "collapsed": false
   },
   "outputs": [
    {
     "data": {
      "text/plain": [
       "SimpleNet (\n",
       "  (fc1): Linear (256 -> 20)\n",
       "  (fc2): Linear (20 -> 256)\n",
       ")"
      ]
     },
     "execution_count": 67,
     "metadata": {},
     "output_type": "execute_result"
    }
   ],
   "source": [
    "class SimpleNet(nn.Module):\n",
    "    def __init__(self, hiddenNodes, imageSize):\n",
    "        super(SimpleNet, self).__init__()\n",
    "        self.imageSize = imageSize\n",
    "        self.fc1   = nn.Linear(pow(imageSize, 2), hiddenNodes )\n",
    "        self.fc2   = nn.Linear(hiddenNodes, pow(imageSize, 2))\n",
    "\n",
    "    def forward(self, x):\n",
    "        x = x.view(-1, pow(self.imageSize, 2))\n",
    "        x = F.relu(self.fc1(x))\n",
    "        x = self.fc2(x)\n",
    "        x = x.view(-1,self.imageSize,self.imageSize)\n",
    "        return x\n",
    "\n",
    "hiddenNodesNumber = 20\n",
    "simpleNet = SimpleNet(hiddenNodesNumber, imSize)\n",
    "simpleNet"
   ]
  },
  {
   "cell_type": "markdown",
   "metadata": {},
   "source": [
    "# Testing the network with random input\n",
    "\n",
    "To test the network we do a simple forward pass on a random noise input and display the result.\n",
    "\n",
    "We would expect a forward pass of a random input through a network with randomly initialized weights to produce noise."
   ]
  },
  {
   "cell_type": "code",
   "execution_count": 68,
   "metadata": {
    "collapsed": false
   },
   "outputs": [
    {
     "data": {
      "image/png": "[encoded data removed]",
      "text/plain": [
       "<matplotlib.figure.Figure at 0x7ffefd337860>"
      ]
     },
     "metadata": {},
     "output_type": "display_data"
    }
   ],
   "source": [
    "input = Variable(torch.randn(imSize, imSize))\n",
    "out = simpleNet(input)\n",
    "plt.imshow(out.data.numpy().squeeze(), cmap = 'gray')\n",
    "plt.show()"
   ]
  },
  {
   "cell_type": "markdown",
   "metadata": {},
   "source": [
    "Looks good ! \n",
    "\n",
    "Let's train the network now, using a simple mean square error loss on the pixels."
   ]
  },
  {
   "cell_type": "code",
   "execution_count": 69,
   "metadata": {
    "collapsed": false
   },
   "outputs": [
    {
     "name": "stdout",
     "output_type": "stream",
     "text": [
      "[1,    32] loss: 11.779\n",
      "[101,    32] loss: 0.550\n",
      "[201,    32] loss: 0.538\n",
      "[301,    32] loss: 0.532\n",
      "[401,    32] loss: 0.528\n",
      "[501,    32] loss: 0.524\n",
      "[601,    32] loss: 0.520\n",
      "[701,    32] loss: 0.518\n",
      "[801,    32] loss: 0.514\n",
      "[901,    32] loss: 0.512\n",
      "[1001,    32] loss: 0.509\n",
      "[1101,    32] loss: 0.506\n",
      "[1201,    32] loss: 0.504\n",
      "[1301,    32] loss: 0.501\n",
      "[1401,    32] loss: 0.498\n",
      "[1501,    32] loss: 0.496\n",
      "[1601,    32] loss: 0.493\n",
      "[1701,    32] loss: 0.490\n",
      "[1801,    32] loss: 0.487\n",
      "[1901,    32] loss: 0.485\n",
      "Finished Training\n"
     ]
    }
   ],
   "source": [
    "criterion = nn.MSELoss()\n",
    "\n",
    "def trainNet(dataloader, net, epochNb, learningRate, momentum):\n",
    "    optimizer = torch.optim.SGD(net.parameters(), learningRate, momentum)\n",
    "    lossResults = np.zeros(epochNb)\n",
    "    for epoch in range(epochNb): # loop over the dataset multiple times\n",
    "        running_loss = 0.0\n",
    "        for i, data in enumerate(dataloader, 0):\n",
    "            # get the inputs\n",
    "            inputs, labels = data\n",
    "        \n",
    "            # wrap them in Variable\n",
    "            inputs, labels = Variable(inputs), Variable(labels)\n",
    "        \n",
    "            # zero the parameter gradients\n",
    "            optimizer.zero_grad()\n",
    "        \n",
    "            # forward + backward + optimize\n",
    "            outputs = net(inputs)\n",
    "            loss = criterion(outputs, labels)\n",
    "            loss.backward()        \n",
    "            optimizer.step()\n",
    "\n",
    "            # print statistics\n",
    "            running_loss += loss.data[0]\n",
    "            if i == 31: # print every 2000 mini-batches\n",
    "                lossResults[epoch] = running_loss\n",
    "                if epoch % 100 == 0:\n",
    "                    print('[%d, %5d] loss: %.3f' % (epoch+1, i+1, running_loss ))\n",
    "                running_loss = 0.0\n",
    "                \n",
    "    print('Finished Training')\n",
    "    return lossResults\n",
    "lossEvolution = trainNet(trainLoader, simpleNet, 2000, 0.001, 0.9)    "
   ]
  },
  {
   "cell_type": "code",
   "execution_count": 75,
   "metadata": {
    "collapsed": false
   },
   "outputs": [
    {
     "data": {
      "image/png": "[encoded data removed]",
      "text/plain": [
       "<matplotlib.figure.Figure at 0x7ffefd1e3cc0>"
      ]
     },
     "metadata": {},
     "output_type": "display_data"
    }
   ],
   "source": [
    "plt.plot(lossEvolution[100:])\n",
    "plt.title('Evolution of loss with epochs')\n",
    "plt.show()"
   ]
  },
  {
   "cell_type": "markdown",
   "metadata": {},
   "source": [
    "Loss is decreasing, which is encouraging.\n",
    "Let's look at some examples of the prections made on a training and a testing sample"
   ]
  },
  {
   "cell_type": "code",
   "execution_count": 71,
   "metadata": {
    "collapsed": false
   },
   "outputs": [
    {
     "data": {
      "image/png": "[encoded data removed]",
      "text/plain": [
       "<matplotlib.figure.Figure at 0x7ffefd180fd0>"
      ]
     },
     "metadata": {},
     "output_type": "display_data"
    },
    {
     "data": {
      "image/png": "[encoded data removed]",
      "text/plain": [
       "<matplotlib.figure.Figure at 0x7ffefd484630>"
      ]
     },
     "metadata": {},
     "output_type": "display_data"
    }
   ],
   "source": [
    "def drawPrediction(net, datasetName, index):\n",
    "    targetImage = datasetName[index][1].numpy()\n",
    "    trainImage = datasetName[index][0].numpy()\n",
    "    trainVar = Variable(torch.Tensor(trainImage))\n",
    "    predictedVar = net(trainVar)\n",
    "    trainImage = torch.Tensor(trainImage).numpy()\n",
    "    predictedIm = predictedVar.data.numpy().squeeze()\n",
    "    # Four axes, returned as a 2-d array\n",
    "    f, axarr = plt.subplots(3)\n",
    "    axarr[0].imshow(trainImage, cmap='gray' )\n",
    "    axarr[0].set_title('input')\n",
    "    axarr[1].imshow(targetImage, cmap='gray')\n",
    "    axarr[1].set_title('target')\n",
    "    axarr[2].imshow(predictedIm, cmap='gray')\n",
    "    axarr[2].set_title('prediction')\n",
    "    # Fine-tune figure; hide x ticks for top plots and y ticks for right plots\n",
    "    #plt.setp(axarr[0].get_xticklabels(), visible = False)\n",
    "    plt.setp([a.get_xticklabels() for a in axarr], visible=False)\n",
    "    plt.setp([a.get_yticklabels() for a in axarr], visible=False)\n",
    "    plt.show()\n",
    "    return predictedIm\n",
    "\n",
    "trainImPred = drawPrediction(simpleNet, trainDataset, 4)\n",
    "testImPred = drawPrediction(simpleNet, testDataset, 1)"
   ]
  },
  {
   "cell_type": "markdown",
   "metadata": {},
   "source": [
    "##### This time the produced image doesn't look completely random, we can see something that looks like eyes, we distinguish a chin. Looks like our neural network is learning !\n",
    "But here we have already iterated on a large number of epochs, but let's see if we can do better with this small dataset ...\n",
    "\n",
    "Let's increase the number of hidden nodes for instance"
   ]
  },
  {
   "cell_type": "code",
   "execution_count": 79,
   "metadata": {
    "collapsed": false
   },
   "outputs": [
    {
     "name": "stdout",
     "output_type": "stream",
     "text": [
      "[1,    32] loss: 11.744\n",
      "[101,    32] loss: 0.543\n",
      "[201,    32] loss: 0.529\n",
      "[301,    32] loss: 0.518\n",
      "[401,    32] loss: 0.505\n",
      "[501,    32] loss: 0.493\n",
      "[601,    32] loss: 0.482\n",
      "[701,    32] loss: 0.469\n",
      "[801,    32] loss: 0.456\n",
      "[901,    32] loss: 0.443\n",
      "[1001,    32] loss: 0.431\n",
      "[1101,    32] loss: 0.419\n",
      "[1201,    32] loss: 0.408\n",
      "[1301,    32] loss: 0.398\n",
      "[1401,    32] loss: 0.389\n",
      "[1501,    32] loss: 0.380\n",
      "[1601,    32] loss: 0.373\n",
      "[1701,    32] loss: 0.366\n",
      "[1801,    32] loss: 0.359\n",
      "[1901,    32] loss: 0.353\n",
      "Finished Training\n"
     ]
    }
   ],
   "source": [
    "simpleNet2 = SimpleNet(100, imSize)\n",
    "simpleNet2\n",
    "simpleLoss2 = trainNet(trainLoader, simpleNet2, 2000, 0.001, 0.9)\n"
   ]
  },
  {
   "cell_type": "code",
   "execution_count": 80,
   "metadata": {
    "collapsed": false
   },
   "outputs": [
    {
     "data": {
      "image/png": "[encoded data removed]",
      "text/plain": [
       "<matplotlib.figure.Figure at 0x7ffefd2195c0>"
      ]
     },
     "metadata": {},
     "output_type": "display_data"
    }
   ],
   "source": [
    "plt.plot(simpleLoss2[100:])\n",
    "plt.title('Evolution of loss with epochs')\n",
    "plt.show()"
   ]
  },
  {
   "cell_type": "code",
   "execution_count": 76,
   "metadata": {
    "collapsed": false
   },
   "outputs": [
    {
     "data": {
      "image/png": "[encoded data removed]",
      "text/plain": [
       "<matplotlib.figure.Figure at 0x7ffefd1cd438>"
      ]
     },
     "metadata": {},
     "output_type": "display_data"
    },
    {
     "data": {
      "image/png": "[encoded data removed]",
      "text/plain": [
       "<matplotlib.figure.Figure at 0x7ffefd4033c8>"
      ]
     },
     "metadata": {},
     "output_type": "display_data"
    }
   ],
   "source": [
    "trainImPred = drawPrediction(simpleNet2, trainDataset, 0)\n",
    "testImPred = drawPrediction(simpleNet2, testDataset, 1)"
   ]
  },
  {
   "cell_type": "markdown",
   "metadata": {},
   "source": [
    "With this increase of hidden nodes, the loss is lower ! But visually the difference is not much more conclusive."
   ]
  },
  {
   "cell_type": "code",
   "execution_count": 81,
   "metadata": {
    "collapsed": false
   },
   "outputs": [
    {
     "name": "stdout",
     "output_type": "stream",
     "text": [
      "[1,    32] loss: 11.486\n",
      "[101,    32] loss: 0.537\n",
      "[201,    32] loss: 0.532\n",
      "[301,    32] loss: 0.528\n",
      "[401,    32] loss: 0.524\n",
      "[501,    32] loss: 0.521\n",
      "[601,    32] loss: 0.517\n",
      "[701,    32] loss: 0.513\n",
      "[801,    32] loss: 0.510\n",
      "[901,    32] loss: 0.506\n",
      "[1001,    32] loss: 0.501\n",
      "[1101,    32] loss: 0.496\n",
      "[1201,    32] loss: 0.491\n",
      "[1301,    32] loss: 0.484\n",
      "[1401,    32] loss: 0.476\n",
      "[1501,    32] loss: 0.468\n",
      "[1601,    32] loss: 0.460\n",
      "[1701,    32] loss: 0.451\n",
      "[1801,    32] loss: 0.442\n",
      "[1901,    32] loss: 0.434\n",
      "Finished Training\n"
     ]
    }
   ],
   "source": [
    "class DeaperNet(nn.Module):\n",
    "    def __init__(self, imageSize):\n",
    "        super(DeaperNet, self).__init__()\n",
    "        self.imageSize = imageSize\n",
    "        self.fc1   = nn.Linear(pow(imageSize, 2), 100)\n",
    "        self.fc2   = nn.Linear(100, 20)\n",
    "        self.fc3   = nn.Linear(20, 100)\n",
    "        self.fc4   = nn.Linear(100, pow(imageSize, 2))\n",
    "\n",
    "    def forward(self, x):\n",
    "        x = x.view(-1, pow(self.imageSize, 2))\n",
    "        x = F.relu(self.fc1(x))\n",
    "        x = F.relu(self.fc2(x))\n",
    "        x = F.relu(self.fc3(x))\n",
    "        x = self.fc4(x)\n",
    "        x = x.view(-1,self.imageSize,self.imageSize)\n",
    "        return x\n",
    "\n",
    "deaperNet = DeaperNet(imSize)\n",
    "deaperNet\n",
    "deaperLoss = trainNet(trainLoader, deaperNet, 2000, 0.001, 0.9)\n"
   ]
  },
  {
   "cell_type": "code",
   "execution_count": 83,
   "metadata": {
    "collapsed": false
   },
   "outputs": [
    {
     "data": {
      "image/png": "[encoded data removed]",
      "text/plain": [
       "<matplotlib.figure.Figure at 0x7fff00c270f0>"
      ]
     },
     "metadata": {},
     "output_type": "display_data"
    }
   ],
   "source": [
    "plt.plot(deaperLoss[100:])\n",
    "plt.title('Evolution of loss with epochs')\n",
    "plt.show()"
   ]
  },
  {
   "cell_type": "code",
   "execution_count": 85,
   "metadata": {
    "collapsed": false
   },
   "outputs": [
    {
     "data": {
      "image/png": "[encoded data removed]",
      "text/plain": [
       "<matplotlib.figure.Figure at 0x7ffefd347b00>"
      ]
     },
     "metadata": {},
     "output_type": "display_data"
    }
   ],
   "source": [
    "trainImPred = drawPrediction(simpleNet2, trainDataset, 6)"
   ]
  },
  {
   "cell_type": "code",
   "execution_count": null,
   "metadata": {
    "collapsed": true
   },
   "outputs": [],
   "source": []
  }
 ],
 "metadata": {
  "kernelspec": {
   "display_name": "Python 3",
   "language": "python",
   "name": "python3"
  },
  "language_info": {
   "codemirror_mode": {
    "name": "ipython",
    "version": 3
   },
   "file_extension": ".py",
   "mimetype": "text/x-python",
   "name": "python",
   "nbconvert_exporter": "python",
   "pygments_lexer": "ipython3",
   "version": "3.5.1"
  }
 },
 "nbformat": 4,
 "nbformat_minor": 2
}
